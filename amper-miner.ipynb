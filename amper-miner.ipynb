{
 "cells": [
  {
   "cell_type": "code",
   "execution_count": 1,
   "metadata": {},
   "outputs": [],
   "source": [
    "import requests \n",
    "from bs4 import BeautifulSoup as soup\n",
    "import re\n",
    "import json\n",
    "import pandas as pd\n",
    "import matplotlib.pyplot as plt\n",
    "FONT_SIZE = 18\n",
    "plt.rcParams['figure.figsize'] = (20,8)\n",
    "# plt.rcParams['text.usetex'] = True\n",
    "plt.rcParams['font.size'] = FONT_SIZE\n",
    "plt.rcParams['legend.fontsize'] = FONT_SIZE\n",
    "plt.rcParams['xtick.labelsize'] = FONT_SIZE\n",
    "plt.rcParams['ytick.labelsize'] = FONT_SIZE\n",
    "%config InlineBackend.figure_format ='retina'"
   ]
  },
  {
   "cell_type": "code",
   "execution_count": 2,
   "metadata": {},
   "outputs": [],
   "source": [
    "AMPERURL = r'https://www.amper.org.ro/sesizari/'\n",
    "HEADERS = {\"user-agent\": \"@WSzP's Problema-ML miner\"}\n",
    "DATA_CSV_PATH = r'./Data/amper.csv'"
   ]
  },
  {
   "cell_type": "code",
   "execution_count": 3,
   "metadata": {},
   "outputs": [],
   "source": [
    "def crawl(url,headers):\n",
    "    res = requests.get(url, headers=headers) \n",
    "    print(res.headers)\n",
    "    print(f\"Content-Type: {res.headers['Content-Type']}\")\n",
    "    print(f\"Encoding: {res.encoding}\")\n",
    "    return res.text"
   ]
  },
  {
   "cell_type": "code",
   "execution_count": 4,
   "metadata": {},
   "outputs": [
    {
     "name": "stdout",
     "output_type": "stream",
     "text": [
      "{'Date': 'Mon, 08 Jun 2020 18:19:30 GMT', 'Server': 'Apache', 'X-Frame-Options': 'SAMEORIGIN', 'X-Pingback': 'https://www.amper.org.ro/sesizari/xmlrpc.php', 'Link': '<https://www.amper.org.ro/sesizari/wp-json/>; rel=\"https://api.w.org/\", <https://www.amper.org.ro/sesizari/>; rel=shortlink', 'Keep-Alive': 'timeout=5, max=100', 'Connection': 'Keep-Alive', 'Transfer-Encoding': 'chunked', 'Content-Type': 'text/html; charset=UTF-8'}\n",
      "Content-Type: text/html; charset=UTF-8\n",
      "Encoding: UTF-8\n"
     ]
    }
   ],
   "source": [
    "amper = crawl(AMPERURL,HEADERS)"
   ]
  },
  {
   "cell_type": "code",
   "execution_count": 5,
   "metadata": {},
   "outputs": [
    {
     "data": {
      "text/plain": [
       "'/* <![CDATA[ */\\nvar theme_data = {\"url\":\"https:\\\\/\\\\/www.amper.org.ro\\\\/sesizari\\\\/wp-content\\\\/themes\\\\/sesizari\",\"error_message\":\"V\\\\u0103 rug\\\\u0103m s\\\\u0103 introduce\\\\u021bi un fi\\\\u0219ier valid. (jpg, png, pdf)\"};\\nvar map_location = {\"pins\":[{\"title\":\"Str. Magurei nr.3, T\\\\u00e2rgu Mure\\\\u0219, judetul: Mures\",\"description\":\"Deasupra scarilor de la Furnica, un panou din caramida deterioarat. Solicitam refacerea la forma initiala.\",\"url\":\"https:\\\\/\\\\/www.amper.org.ro\\\\/sesizari\\\\/sesizare\\\\/str-magurei-nr-'"
      ]
     },
     "execution_count": 5,
     "metadata": {},
     "output_type": "execute_result"
    }
   ],
   "source": [
    "page_soup = soup(amper, 'html.parser')\n",
    "data = page_soup.select(\"[type='text/javascript']\")[8].string.strip()\n",
    "data[:500]"
   ]
  },
  {
   "cell_type": "code",
   "execution_count": 6,
   "metadata": {},
   "outputs": [
    {
     "name": "stdout",
     "output_type": "stream",
     "text": [
      "[{\"title\":\"Str. Magurei nr.3, T\\u00e2rgu Mure\\u0219, judetul: Mures\",\"description\":\"Deasupra scarilor de la Furnica, un panou din caramida deterioarat. Solicitam refacerea la forma initiala.\",\"url\":\"https:\\/\\/www.amper.org.ro\\/sesizari\\/sesizare\\/str-magurei-nr-3-targu-mures-mures-2\\/\",\"address\":\"Romania, Mures, T\\u00e2rgu Mure\\u0219, Str. Magurei nr.3\",\"coordinates\":\"46.53528229550323, 24.562180846862923\",\"status_value\":\"pending\",\"status_label\":\"In curs de rezolvare\",\"category\":57},{\"title\":\"Ro\n",
      "...\n",
      "811798096\",\"status_value\":\"pending\",\"status_label\":\"In curs de rezolvare\",\"category\":46},{\"title\":\"Strada Recoltei 7, Targu-Mures, judetul: Mures\",\"description\":\"Groapa extraordinar de mare la trecerea caii ferate.\",\"url\":\"https:\\/\\/www.amper.org.ro\\/sesizari\\/sesizare\\/strada-recoltei-7-targu-mures-mures\\/\",\"address\":\"Romania, Mures, Targu-Mures, Strada Recoltei 7\",\"coordinates\":\"46.51812263151161, 24.52126979827881\",\"status_value\":\"pending\",\"status_label\":\"In curs de rezolvare\",\"category\":56}]\n"
     ]
    }
   ],
   "source": [
    "map_location_regex = r'^.*map\\_location.*$'\n",
    "map_location_json = re.findall(map_location_regex, data, re.MULTILINE)\n",
    "map_location_json = map_location_json[0][27:-2]\n",
    "print(map_location_json[:500])\n",
    "print('...')\n",
    "print(map_location_json[-500:])"
   ]
  },
  {
   "cell_type": "code",
   "execution_count": 7,
   "metadata": {},
   "outputs": [
    {
     "data": {
      "text/plain": [
       "{'title': 'Str. Magurei nr.3, Târgu Mureș, judetul: Mures',\n",
       " 'description': 'Deasupra scarilor de la Furnica, un panou din caramida deterioarat. Solicitam refacerea la forma initiala.',\n",
       " 'url': 'https://www.amper.org.ro/sesizari/sesizare/str-magurei-nr-3-targu-mures-mures-2/',\n",
       " 'address': 'Romania, Mures, Târgu Mureș, Str. Magurei nr.3',\n",
       " 'coordinates': '46.53528229550323, 24.562180846862923',\n",
       " 'status_value': 'pending',\n",
       " 'status_label': 'In curs de rezolvare',\n",
       " 'category': 57}"
      ]
     },
     "execution_count": 7,
     "metadata": {},
     "output_type": "execute_result"
    }
   ],
   "source": [
    "map_loc = json.loads(map_location_json)\n",
    "map_loc[0]"
   ]
  },
  {
   "cell_type": "code",
   "execution_count": 8,
   "metadata": {},
   "outputs": [
    {
     "name": "stdout",
     "output_type": "stream",
     "text": [
      "Number of issues on AMPER: 769\n"
     ]
    }
   ],
   "source": [
    "numIssues = len(map_loc)\n",
    "print(f'Number of issues on AMPER: {numIssues}')"
   ]
  },
  {
   "cell_type": "code",
   "execution_count": 9,
   "metadata": {},
   "outputs": [
    {
     "data": {
      "text/html": [
       "<div>\n",
       "<style scoped>\n",
       "    .dataframe tbody tr th:only-of-type {\n",
       "        vertical-align: middle;\n",
       "    }\n",
       "\n",
       "    .dataframe tbody tr th {\n",
       "        vertical-align: top;\n",
       "    }\n",
       "\n",
       "    .dataframe thead th {\n",
       "        text-align: right;\n",
       "    }\n",
       "</style>\n",
       "<table border=\"1\" class=\"dataframe\">\n",
       "  <thead>\n",
       "    <tr style=\"text-align: right;\">\n",
       "      <th></th>\n",
       "      <th>Category_ID</th>\n",
       "      <th>Title</th>\n",
       "      <th>Description</th>\n",
       "      <th>Address</th>\n",
       "      <th>Coordinates</th>\n",
       "      <th>Status_value</th>\n",
       "      <th>Status_label</th>\n",
       "      <th>Url</th>\n",
       "    </tr>\n",
       "  </thead>\n",
       "  <tbody>\n",
       "    <tr>\n",
       "      <th>0</th>\n",
       "      <td>57</td>\n",
       "      <td>Str. Magurei nr.3, Târgu Mureș, judetul: Mures</td>\n",
       "      <td>Deasupra scarilor de la Furnica, un panou din ...</td>\n",
       "      <td>Romania, Mures, Târgu Mureș, Str. Magurei nr.3</td>\n",
       "      <td>46.53528229550323, 24.562180846862923</td>\n",
       "      <td>pending</td>\n",
       "      <td>In curs de rezolvare</td>\n",
       "      <td>https://www.amper.org.ro/sesizari/sesizare/str...</td>\n",
       "    </tr>\n",
       "    <tr>\n",
       "      <th>1</th>\n",
       "      <td>50</td>\n",
       "      <td>Rozmarinului nr. 46, Târgu Mureș, judetul: Mures</td>\n",
       "      <td>Un vecin are un caine in spatele garajului pe ...</td>\n",
       "      <td>Romania, Mures, Târgu Mureș, Rozmarinului nr. 46</td>\n",
       "      <td>46.5224798, 24.5299441</td>\n",
       "      <td>pending</td>\n",
       "      <td>In curs de rezolvare</td>\n",
       "      <td>https://www.amper.org.ro/sesizari/sesizare/roz...</td>\n",
       "    </tr>\n",
       "    <tr>\n",
       "      <th>2</th>\n",
       "      <td>44</td>\n",
       "      <td>Str. Gheorghe Doja nr. 177, Târgu Mureș, judet...</td>\n",
       "      <td>In zona lacului de la fabrica de caramida sunt...</td>\n",
       "      <td>Romania, Mures, Târgu Mureș, Str. Gheorghe Doj...</td>\n",
       "      <td>46.5256927, 24.5398328</td>\n",
       "      <td>pending</td>\n",
       "      <td>In curs de rezolvare</td>\n",
       "      <td>https://www.amper.org.ro/sesizari/sesizare/str...</td>\n",
       "    </tr>\n",
       "    <tr>\n",
       "      <th>3</th>\n",
       "      <td>57</td>\n",
       "      <td>Str.Magurei nr.7, Târgu Mureș, judetul: Mures</td>\n",
       "      <td>In spatele blocului din str.Magurei nr.7 un po...</td>\n",
       "      <td>Romania, Mures, Târgu Mureș, Str.Magurei nr.7</td>\n",
       "      <td>46.534945, 24.56296</td>\n",
       "      <td>pending</td>\n",
       "      <td>In curs de rezolvare</td>\n",
       "      <td>https://www.amper.org.ro/sesizari/sesizare/str...</td>\n",
       "    </tr>\n",
       "    <tr>\n",
       "      <th>4</th>\n",
       "      <td>56</td>\n",
       "      <td>Dorobantilor, Târgu Mureș, judetul: Mures</td>\n",
       "      <td>Către Comisia de circulație. Propunem instalar...</td>\n",
       "      <td>Romania, Mures, Târgu Mureș, Dorobantilor</td>\n",
       "      <td>46.53596383595648, 24.551930491818243</td>\n",
       "      <td>pending</td>\n",
       "      <td>In curs de rezolvare</td>\n",
       "      <td>https://www.amper.org.ro/sesizari/sesizare/dor...</td>\n",
       "    </tr>\n",
       "    <tr>\n",
       "      <th>...</th>\n",
       "      <td>...</td>\n",
       "      <td>...</td>\n",
       "      <td>...</td>\n",
       "      <td>...</td>\n",
       "      <td>...</td>\n",
       "      <td>...</td>\n",
       "      <td>...</td>\n",
       "      <td>...</td>\n",
       "    </tr>\n",
       "    <tr>\n",
       "      <th>764</th>\n",
       "      <td>56</td>\n",
       "      <td>Aleea Carpați 21, Targu-Mures, judetul: Mures</td>\n",
       "      <td>Portiune lipsa in trecerea caii ferate din ale...</td>\n",
       "      <td>Romania, Mures, Targu-Mures, Aleea Carpați 21</td>\n",
       "      <td>46.553327087591285, 24.55823063850403</td>\n",
       "      <td>complete</td>\n",
       "      <td>Rezolvat</td>\n",
       "      <td>https://www.amper.org.ro/sesizari/sesizare/ale...</td>\n",
       "    </tr>\n",
       "    <tr>\n",
       "      <th>765</th>\n",
       "      <td>56</td>\n",
       "      <td>Strada Secerei 22, Targu-Mures, judetul: Mures</td>\n",
       "      <td>Pod surpat!</td>\n",
       "      <td>Romania, Mures, Targu-Mures, Strada Secerei 22</td>\n",
       "      <td>46.536701914998574, 24.571722149848938</td>\n",
       "      <td>complete</td>\n",
       "      <td>Rezolvat</td>\n",
       "      <td>https://www.amper.org.ro/sesizari/sesizare/str...</td>\n",
       "    </tr>\n",
       "    <tr>\n",
       "      <th>766</th>\n",
       "      <td>56</td>\n",
       "      <td>Strada Somnului 1, Targu-Mures, judetul: Mures</td>\n",
       "      <td>Gropi si denivelari imense imediat cum treci c...</td>\n",
       "      <td>Romania, Mures, Targu-Mures, Strada Somnului 1</td>\n",
       "      <td>46.54757194493636, 24.54906553030014</td>\n",
       "      <td>pending</td>\n",
       "      <td>In curs de rezolvare</td>\n",
       "      <td>https://www.amper.org.ro/sesizari/sesizare/str...</td>\n",
       "    </tr>\n",
       "    <tr>\n",
       "      <th>767</th>\n",
       "      <td>46</td>\n",
       "      <td>Strada Şurianu 8, Targu-Mures, judetul: Mures</td>\n",
       "      <td>Curtea Scolii 17 arata groaznic dupa ploaie.</td>\n",
       "      <td>Romania, Mures, Targu-Mures, Strada Şurianu 8</td>\n",
       "      <td>46.53108524920353, 24.560043811798096</td>\n",
       "      <td>pending</td>\n",
       "      <td>In curs de rezolvare</td>\n",
       "      <td>https://www.amper.org.ro/sesizari/sesizare/str...</td>\n",
       "    </tr>\n",
       "    <tr>\n",
       "      <th>768</th>\n",
       "      <td>56</td>\n",
       "      <td>Strada Recoltei 7, Targu-Mures, judetul: Mures</td>\n",
       "      <td>Groapa extraordinar de mare la trecerea caii f...</td>\n",
       "      <td>Romania, Mures, Targu-Mures, Strada Recoltei 7</td>\n",
       "      <td>46.51812263151161, 24.52126979827881</td>\n",
       "      <td>pending</td>\n",
       "      <td>In curs de rezolvare</td>\n",
       "      <td>https://www.amper.org.ro/sesizari/sesizare/str...</td>\n",
       "    </tr>\n",
       "  </tbody>\n",
       "</table>\n",
       "<p>769 rows × 8 columns</p>\n",
       "</div>"
      ],
      "text/plain": [
       "     Category_ID                                              Title  \\\n",
       "0             57     Str. Magurei nr.3, Târgu Mureș, judetul: Mures   \n",
       "1             50   Rozmarinului nr. 46, Târgu Mureș, judetul: Mures   \n",
       "2             44  Str. Gheorghe Doja nr. 177, Târgu Mureș, judet...   \n",
       "3             57      Str.Magurei nr.7, Târgu Mureș, judetul: Mures   \n",
       "4             56          Dorobantilor, Târgu Mureș, judetul: Mures   \n",
       "..           ...                                                ...   \n",
       "764           56      Aleea Carpați 21, Targu-Mures, judetul: Mures   \n",
       "765           56     Strada Secerei 22, Targu-Mures, judetul: Mures   \n",
       "766           56     Strada Somnului 1, Targu-Mures, judetul: Mures   \n",
       "767           46      Strada Şurianu 8, Targu-Mures, judetul: Mures   \n",
       "768           56     Strada Recoltei 7, Targu-Mures, judetul: Mures   \n",
       "\n",
       "                                           Description  \\\n",
       "0    Deasupra scarilor de la Furnica, un panou din ...   \n",
       "1    Un vecin are un caine in spatele garajului pe ...   \n",
       "2    In zona lacului de la fabrica de caramida sunt...   \n",
       "3    In spatele blocului din str.Magurei nr.7 un po...   \n",
       "4    Către Comisia de circulație. Propunem instalar...   \n",
       "..                                                 ...   \n",
       "764  Portiune lipsa in trecerea caii ferate din ale...   \n",
       "765                                        Pod surpat!   \n",
       "766  Gropi si denivelari imense imediat cum treci c...   \n",
       "767       Curtea Scolii 17 arata groaznic dupa ploaie.   \n",
       "768  Groapa extraordinar de mare la trecerea caii f...   \n",
       "\n",
       "                                               Address  \\\n",
       "0       Romania, Mures, Târgu Mureș, Str. Magurei nr.3   \n",
       "1     Romania, Mures, Târgu Mureș, Rozmarinului nr. 46   \n",
       "2    Romania, Mures, Târgu Mureș, Str. Gheorghe Doj...   \n",
       "3        Romania, Mures, Târgu Mureș, Str.Magurei nr.7   \n",
       "4            Romania, Mures, Târgu Mureș, Dorobantilor   \n",
       "..                                                 ...   \n",
       "764      Romania, Mures, Targu-Mures, Aleea Carpați 21   \n",
       "765     Romania, Mures, Targu-Mures, Strada Secerei 22   \n",
       "766     Romania, Mures, Targu-Mures, Strada Somnului 1   \n",
       "767      Romania, Mures, Targu-Mures, Strada Şurianu 8   \n",
       "768     Romania, Mures, Targu-Mures, Strada Recoltei 7   \n",
       "\n",
       "                                Coordinates Status_value  \\\n",
       "0     46.53528229550323, 24.562180846862923      pending   \n",
       "1                    46.5224798, 24.5299441      pending   \n",
       "2                    46.5256927, 24.5398328      pending   \n",
       "3                       46.534945, 24.56296      pending   \n",
       "4     46.53596383595648, 24.551930491818243      pending   \n",
       "..                                      ...          ...   \n",
       "764   46.553327087591285, 24.55823063850403     complete   \n",
       "765  46.536701914998574, 24.571722149848938     complete   \n",
       "766    46.54757194493636, 24.54906553030014      pending   \n",
       "767   46.53108524920353, 24.560043811798096      pending   \n",
       "768    46.51812263151161, 24.52126979827881      pending   \n",
       "\n",
       "             Status_label                                                Url  \n",
       "0    In curs de rezolvare  https://www.amper.org.ro/sesizari/sesizare/str...  \n",
       "1    In curs de rezolvare  https://www.amper.org.ro/sesizari/sesizare/roz...  \n",
       "2    In curs de rezolvare  https://www.amper.org.ro/sesizari/sesizare/str...  \n",
       "3    In curs de rezolvare  https://www.amper.org.ro/sesizari/sesizare/str...  \n",
       "4    In curs de rezolvare  https://www.amper.org.ro/sesizari/sesizare/dor...  \n",
       "..                    ...                                                ...  \n",
       "764              Rezolvat  https://www.amper.org.ro/sesizari/sesizare/ale...  \n",
       "765              Rezolvat  https://www.amper.org.ro/sesizari/sesizare/str...  \n",
       "766  In curs de rezolvare  https://www.amper.org.ro/sesizari/sesizare/str...  \n",
       "767  In curs de rezolvare  https://www.amper.org.ro/sesizari/sesizare/str...  \n",
       "768  In curs de rezolvare  https://www.amper.org.ro/sesizari/sesizare/str...  \n",
       "\n",
       "[769 rows x 8 columns]"
      ]
     },
     "execution_count": 9,
     "metadata": {},
     "output_type": "execute_result"
    }
   ],
   "source": [
    "issues = []\n",
    "for issue in map_loc:\n",
    "    issues.append([issue['category'], issue['title'], issue['description'], issue['address'], issue['coordinates'], issue['status_value'],issue['status_label'], issue['url']])  \n",
    "\n",
    "df =  pd.DataFrame(issues, columns=['Category_ID','Title','Description','Address','Coordinates','Status_value','Status_label','Url'])\n",
    "df"
   ]
  },
  {
   "cell_type": "code",
   "execution_count": 10,
   "metadata": {},
   "outputs": [],
   "source": [
    "df.to_csv(DATA_CSV_PATH)"
   ]
  },
  {
   "cell_type": "code",
   "execution_count": 11,
   "metadata": {},
   "outputs": [
    {
     "data": {
      "image/png": "[encoded data removed]",
      "text/plain": [
       "<Figure size 1440x576 with 1 Axes>"
      ]
     },
     "metadata": {
      "image/png": {
       "height": 449,
       "width": 1130
      }
     },
     "output_type": "display_data"
    }
   ],
   "source": [
    "def make_autopct(values):\n",
    "    def my_autopct(pct):\n",
    "        total = sum(values)\n",
    "        val = int(round(pct*total/100.0))\n",
    "        return '{p:.2f}%  ({v:d})'.format(p=pct,v=val)\n",
    "    return my_autopct\n",
    "\n",
    "complete_labels = 'Complete', 'Not complete'\n",
    "complete = [len(df[df.Status_value=='complete']),len(df[df.Status_value!='complete'])]\n",
    "fig1, ax1 = plt.subplots()\n",
    "ax1.pie(complete, labels=complete_labels, autopct=make_autopct(complete),\n",
    "        shadow=False, startangle=90)\n",
    "ax1.axis('equal') \n",
    "fig1.patch.set_facecolor('white')\n",
    "plt.show()"
   ]
  },
  {
   "cell_type": "code",
   "execution_count": null,
   "metadata": {},
   "outputs": [],
   "source": [
    "df"
   ]
  }
 ],
 "metadata": {
  "kernelspec": {
   "display_name": "Python 3",
   "language": "python",
   "name": "python3"
  },
  "language_info": {
   "codemirror_mode": {
    "name": "ipython",
    "version": 3
   },
   "file_extension": ".py",
   "mimetype": "text/x-python",
   "name": "python",
   "nbconvert_exporter": "python",
   "pygments_lexer": "ipython3",
   "version": "3.7.7"
  },
  "widgets": {
   "application/vnd.jupyter.widget-state+json": {
    "state": {},
    "version_major": 2,
    "version_minor": 0
   }
  }
 },
 "nbformat": 4,
 "nbformat_minor": 4
}
