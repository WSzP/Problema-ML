{
 "cells": [
  {
   "cell_type": "code",
   "execution_count": 1,
   "metadata": {},
   "outputs": [],
   "source": [
    "import requests \n",
    "from bs4 import BeautifulSoup as soup\n",
    "import re\n",
    "import json\n",
    "import pandas as pd\n",
    "import matplotlib.pyplot as plt\n",
    "FONT_SIZE = 18\n",
    "plt.rcParams['figure.figsize'] = (20,8)\n",
    "# plt.rcParams['text.usetex'] = True\n",
    "plt.rcParams['font.size'] = FONT_SIZE\n",
    "plt.rcParams['legend.fontsize'] = FONT_SIZE\n",
    "plt.rcParams['xtick.labelsize'] = FONT_SIZE\n",
    "plt.rcParams['ytick.labelsize'] = FONT_SIZE\n",
    "%config InlineBackend.figure_format ='retina'"
   ]
  },
  {
   "cell_type": "code",
   "execution_count": 2,
   "metadata": {},
   "outputs": [],
   "source": [
    "AMPERURL = r'https://www.amper.org.ro/sesizari/'\n",
    "HEADERS = {\"user-agent\": \"@WSzP's Problema-ML miner\"}\n",
    "DATA_CSV_PATH = r'./Data/amper.csv'"
   ]
  },
  {
   "cell_type": "code",
   "execution_count": 3,
   "metadata": {},
   "outputs": [],
   "source": [
    "def crawl(url,headers):\n",
    "    res = requests.get(url, headers=headers) \n",
    "    print(res.headers)\n",
    "    print(f\"Content-Type: {res.headers['Content-Type']}\")\n",
    "    print(f\"Encoding: {res.encoding}\")\n",
    "    return res.text"
   ]
  },
  {
   "cell_type": "code",
   "execution_count": 4,
   "metadata": {},
   "outputs": [
    {
     "name": "stdout",
     "output_type": "stream",
     "text": [
      "{'Date': 'Mon, 25 May 2020 19:31:47 GMT', 'Server': 'Apache', 'X-Frame-Options': 'SAMEORIGIN', 'X-Pingback': 'https://www.amper.org.ro/sesizari/xmlrpc.php', 'Link': '<https://www.amper.org.ro/sesizari/wp-json/>; rel=\"https://api.w.org/\", <https://www.amper.org.ro/sesizari/>; rel=shortlink', 'Keep-Alive': 'timeout=5, max=100', 'Connection': 'Keep-Alive', 'Transfer-Encoding': 'chunked', 'Content-Type': 'text/html; charset=UTF-8'}\n",
      "Content-Type: text/html; charset=UTF-8\n",
      "Encoding: UTF-8\n"
     ]
    }
   ],
   "source": [
    "amper = crawl(AMPERURL,HEADERS)"
   ]
  },
  {
   "cell_type": "code",
   "execution_count": 5,
   "metadata": {},
   "outputs": [
    {
     "data": {
      "text/plain": [
       "'/* <![CDATA[ */\\nvar theme_data = {\"url\":\"https:\\\\/\\\\/www.amper.org.ro\\\\/sesizari\\\\/wp-content\\\\/themes\\\\/sesizari\",\"error_message\":\"V\\\\u0103 rug\\\\u0103m s\\\\u0103 introduce\\\\u021bi un fi\\\\u0219ier valid. (jpg, png, pdf)\"};\\nvar map_location = {\"pins\":[{\"title\":\"Suceava, T\\\\u00e2rgu Mure\\\\u0219, judetul: Mures\",\"description\":\"Ambele trotuare ale strazii Suceava, in apropierea Cimitirului evreiesc sunt ocupate de Masinile firmei de inchirieri MF rent a car. Uneori are 15 masini parcate. Oare pl\\\\u0103te\\\\u0219te i'"
      ]
     },
     "execution_count": 5,
     "metadata": {},
     "output_type": "execute_result"
    }
   ],
   "source": [
    "page_soup = soup(amper, 'html.parser')\n",
    "data = page_soup.select(\"[type='text/javascript']\")[8].string.strip()\n",
    "data[:500]"
   ]
  },
  {
   "cell_type": "code",
   "execution_count": 6,
   "metadata": {},
   "outputs": [
    {
     "name": "stdout",
     "output_type": "stream",
     "text": [
      "[{\"title\":\"Suceava, T\\u00e2rgu Mure\\u0219, judetul: Mures\",\"description\":\"Ambele trotuare ale strazii Suceava, in apropierea Cimitirului evreiesc sunt ocupate de Masinile firmei de inchirieri MF rent a car. Uneori are 15 masini parcate. Oare pl\\u0103te\\u0219te impozite pentru fiecare loc de parcare ?\",\"url\":\"https:\\/\\/www.amper.org.ro\\/sesizari\\/sesizare\\/suceava-targu-mures-mures\\/\",\"address\":\"Romania, Mures, T\\u00e2rgu Mure\\u0219, Suceava\",\"coordinates\":\"46.5318219, 24.5605755\",\"status_value\":\n",
      "...\n",
      "811798096\",\"status_value\":\"pending\",\"status_label\":\"In curs de rezolvare\",\"category\":46},{\"title\":\"Strada Recoltei 7, Targu-Mures, judetul: Mures\",\"description\":\"Groapa extraordinar de mare la trecerea caii ferate.\",\"url\":\"https:\\/\\/www.amper.org.ro\\/sesizari\\/sesizare\\/strada-recoltei-7-targu-mures-mures\\/\",\"address\":\"Romania, Mures, Targu-Mures, Strada Recoltei 7\",\"coordinates\":\"46.51812263151161, 24.52126979827881\",\"status_value\":\"pending\",\"status_label\":\"In curs de rezolvare\",\"category\":56}]\n"
     ]
    }
   ],
   "source": [
    "map_location_regex = r'^.*map\\_location.*$'\n",
    "map_location_json = re.findall(map_location_regex, data, re.MULTILINE)\n",
    "map_location_json = map_location_json[0][27:-2]\n",
    "print(map_location_json[:500])\n",
    "print('...')\n",
    "print(map_location_json[-500:])"
   ]
  },
  {
   "cell_type": "code",
   "execution_count": 7,
   "metadata": {},
   "outputs": [
    {
     "data": {
      "text/plain": [
       "{'title': 'Suceava, Târgu Mureș, judetul: Mures',\n",
       " 'description': 'Ambele trotuare ale strazii Suceava, in apropierea Cimitirului evreiesc sunt ocupate de Masinile firmei de inchirieri MF rent a car. Uneori are 15 masini parcate. Oare plătește impozite pentru fiecare loc de parcare ?',\n",
       " 'url': 'https://www.amper.org.ro/sesizari/sesizare/suceava-targu-mures-mures/',\n",
       " 'address': 'Romania, Mures, Târgu Mureș, Suceava',\n",
       " 'coordinates': '46.5318219, 24.5605755',\n",
       " 'status_value': 'pending',\n",
       " 'status_label': 'In curs de rezolvare',\n",
       " 'category': 57}"
      ]
     },
     "execution_count": 7,
     "metadata": {},
     "output_type": "execute_result"
    }
   ],
   "source": [
    "map_loc = json.loads(map_location_json)\n",
    "map_loc[0]"
   ]
  },
  {
   "cell_type": "code",
   "execution_count": 8,
   "metadata": {},
   "outputs": [
    {
     "name": "stdout",
     "output_type": "stream",
     "text": [
      "Number of issues on AMPER: 763\n"
     ]
    }
   ],
   "source": [
    "numIssues = len(map_loc)\n",
    "print(f'Number of issues on AMPER: {numIssues}')"
   ]
  },
  {
   "cell_type": "code",
   "execution_count": 12,
   "metadata": {},
   "outputs": [
    {
     "data": {
      "text/html": [
       "<div>\n",
       "<style scoped>\n",
       "    .dataframe tbody tr th:only-of-type {\n",
       "        vertical-align: middle;\n",
       "    }\n",
       "\n",
       "    .dataframe tbody tr th {\n",
       "        vertical-align: top;\n",
       "    }\n",
       "\n",
       "    .dataframe thead th {\n",
       "        text-align: right;\n",
       "    }\n",
       "</style>\n",
       "<table border=\"1\" class=\"dataframe\">\n",
       "  <thead>\n",
       "    <tr style=\"text-align: right;\">\n",
       "      <th></th>\n",
       "      <th>Category_ID</th>\n",
       "      <th>Title</th>\n",
       "      <th>Description</th>\n",
       "      <th>Address</th>\n",
       "      <th>Coordinates</th>\n",
       "      <th>Status_value</th>\n",
       "      <th>Status_label</th>\n",
       "      <th>Url</th>\n",
       "    </tr>\n",
       "  </thead>\n",
       "  <tbody>\n",
       "    <tr>\n",
       "      <th>0</th>\n",
       "      <td>57</td>\n",
       "      <td>Suceava, Târgu Mureș, judetul: Mures</td>\n",
       "      <td>Ambele trotuare ale strazii Suceava, in apropi...</td>\n",
       "      <td>Romania, Mures, Târgu Mureș, Suceava</td>\n",
       "      <td>46.5318219, 24.5605755</td>\n",
       "      <td>pending</td>\n",
       "      <td>In curs de rezolvare</td>\n",
       "      <td>https://www.amper.org.ro/sesizari/sesizare/suc...</td>\n",
       "    </tr>\n",
       "    <tr>\n",
       "      <th>1</th>\n",
       "      <td>57</td>\n",
       "      <td>Suceava, Târgu Mureș, judetul: Mures</td>\n",
       "      <td>autoturism ms 13 gjo abandonat, vizavi de Cimi...</td>\n",
       "      <td>Romania, Mures, Târgu Mureș, Suceava</td>\n",
       "      <td>46.5318219, 24.5605755</td>\n",
       "      <td>pending</td>\n",
       "      <td>In curs de rezolvare</td>\n",
       "      <td>https://www.amper.org.ro/sesizari/sesizare/suc...</td>\n",
       "    </tr>\n",
       "    <tr>\n",
       "      <th>2</th>\n",
       "      <td>44</td>\n",
       "      <td>Pasajul Mimozelor Nr 1, Târgu Mureș, judetul: ...</td>\n",
       "      <td>Am dori sa vedem daca exista posibilitatea pen...</td>\n",
       "      <td>Romania, Mures, Târgu Mureș, Pasajul Mimozelor...</td>\n",
       "      <td>46.53847314771793, 24.56418514251709</td>\n",
       "      <td>pending</td>\n",
       "      <td>In curs de rezolvare</td>\n",
       "      <td>https://www.amper.org.ro/sesizari/sesizare/pas...</td>\n",
       "    </tr>\n",
       "    <tr>\n",
       "      <th>3</th>\n",
       "      <td>44</td>\n",
       "      <td>Secuilor Martiri &amp;#8211; scurgerea apei, Târgu...</td>\n",
       "      <td>A víz forráshoz is kell utcai lámpa. A parkban...</td>\n",
       "      <td>Romania, Mures, Târgu Mureș, Secuilor Martiri ...</td>\n",
       "      <td>46.556504, 24.5761983</td>\n",
       "      <td>pending</td>\n",
       "      <td>In curs de rezolvare</td>\n",
       "      <td>https://www.amper.org.ro/sesizari/sesizare/sec...</td>\n",
       "    </tr>\n",
       "    <tr>\n",
       "      <th>4</th>\n",
       "      <td>44</td>\n",
       "      <td>Intre Movile, Târgu Mureș, judetul: Mures</td>\n",
       "      <td>Drum neasfaltat cu gropi mari!</td>\n",
       "      <td>Romania, Mures, Târgu Mureș, Intre Movile</td>\n",
       "      <td>46.538112, 24.6072183</td>\n",
       "      <td>pending</td>\n",
       "      <td>In curs de rezolvare</td>\n",
       "      <td>https://www.amper.org.ro/sesizari/sesizare/int...</td>\n",
       "    </tr>\n",
       "    <tr>\n",
       "      <th>...</th>\n",
       "      <td>...</td>\n",
       "      <td>...</td>\n",
       "      <td>...</td>\n",
       "      <td>...</td>\n",
       "      <td>...</td>\n",
       "      <td>...</td>\n",
       "      <td>...</td>\n",
       "      <td>...</td>\n",
       "    </tr>\n",
       "    <tr>\n",
       "      <th>758</th>\n",
       "      <td>56</td>\n",
       "      <td>Aleea Carpați 21, Targu-Mures, judetul: Mures</td>\n",
       "      <td>Portiune lipsa in trecerea caii ferate din ale...</td>\n",
       "      <td>Romania, Mures, Targu-Mures, Aleea Carpați 21</td>\n",
       "      <td>46.553327087591285, 24.55823063850403</td>\n",
       "      <td>complete</td>\n",
       "      <td>Rezolvat</td>\n",
       "      <td>https://www.amper.org.ro/sesizari/sesizare/ale...</td>\n",
       "    </tr>\n",
       "    <tr>\n",
       "      <th>759</th>\n",
       "      <td>56</td>\n",
       "      <td>Strada Secerei 22, Targu-Mures, judetul: Mures</td>\n",
       "      <td>Pod surpat!</td>\n",
       "      <td>Romania, Mures, Targu-Mures, Strada Secerei 22</td>\n",
       "      <td>46.536701914998574, 24.571722149848938</td>\n",
       "      <td>complete</td>\n",
       "      <td>Rezolvat</td>\n",
       "      <td>https://www.amper.org.ro/sesizari/sesizare/str...</td>\n",
       "    </tr>\n",
       "    <tr>\n",
       "      <th>760</th>\n",
       "      <td>56</td>\n",
       "      <td>Strada Somnului 1, Targu-Mures, judetul: Mures</td>\n",
       "      <td>Gropi si denivelari imense imediat cum treci c...</td>\n",
       "      <td>Romania, Mures, Targu-Mures, Strada Somnului 1</td>\n",
       "      <td>46.54757194493636, 24.54906553030014</td>\n",
       "      <td>pending</td>\n",
       "      <td>In curs de rezolvare</td>\n",
       "      <td>https://www.amper.org.ro/sesizari/sesizare/str...</td>\n",
       "    </tr>\n",
       "    <tr>\n",
       "      <th>761</th>\n",
       "      <td>46</td>\n",
       "      <td>Strada Şurianu 8, Targu-Mures, judetul: Mures</td>\n",
       "      <td>Curtea Scolii 17 arata groaznic dupa ploaie.</td>\n",
       "      <td>Romania, Mures, Targu-Mures, Strada Şurianu 8</td>\n",
       "      <td>46.53108524920353, 24.560043811798096</td>\n",
       "      <td>pending</td>\n",
       "      <td>In curs de rezolvare</td>\n",
       "      <td>https://www.amper.org.ro/sesizari/sesizare/str...</td>\n",
       "    </tr>\n",
       "    <tr>\n",
       "      <th>762</th>\n",
       "      <td>56</td>\n",
       "      <td>Strada Recoltei 7, Targu-Mures, judetul: Mures</td>\n",
       "      <td>Groapa extraordinar de mare la trecerea caii f...</td>\n",
       "      <td>Romania, Mures, Targu-Mures, Strada Recoltei 7</td>\n",
       "      <td>46.51812263151161, 24.52126979827881</td>\n",
       "      <td>pending</td>\n",
       "      <td>In curs de rezolvare</td>\n",
       "      <td>https://www.amper.org.ro/sesizari/sesizare/str...</td>\n",
       "    </tr>\n",
       "  </tbody>\n",
       "</table>\n",
       "<p>763 rows × 8 columns</p>\n",
       "</div>"
      ],
      "text/plain": [
       "     Category_ID                                              Title  \\\n",
       "0             57               Suceava, Târgu Mureș, judetul: Mures   \n",
       "1             57               Suceava, Târgu Mureș, judetul: Mures   \n",
       "2             44  Pasajul Mimozelor Nr 1, Târgu Mureș, judetul: ...   \n",
       "3             44  Secuilor Martiri &#8211; scurgerea apei, Târgu...   \n",
       "4             44          Intre Movile, Târgu Mureș, judetul: Mures   \n",
       "..           ...                                                ...   \n",
       "758           56      Aleea Carpați 21, Targu-Mures, judetul: Mures   \n",
       "759           56     Strada Secerei 22, Targu-Mures, judetul: Mures   \n",
       "760           56     Strada Somnului 1, Targu-Mures, judetul: Mures   \n",
       "761           46      Strada Şurianu 8, Targu-Mures, judetul: Mures   \n",
       "762           56     Strada Recoltei 7, Targu-Mures, judetul: Mures   \n",
       "\n",
       "                                           Description  \\\n",
       "0    Ambele trotuare ale strazii Suceava, in apropi...   \n",
       "1    autoturism ms 13 gjo abandonat, vizavi de Cimi...   \n",
       "2    Am dori sa vedem daca exista posibilitatea pen...   \n",
       "3    A víz forráshoz is kell utcai lámpa. A parkban...   \n",
       "4                       Drum neasfaltat cu gropi mari!   \n",
       "..                                                 ...   \n",
       "758  Portiune lipsa in trecerea caii ferate din ale...   \n",
       "759                                        Pod surpat!   \n",
       "760  Gropi si denivelari imense imediat cum treci c...   \n",
       "761       Curtea Scolii 17 arata groaznic dupa ploaie.   \n",
       "762  Groapa extraordinar de mare la trecerea caii f...   \n",
       "\n",
       "                                               Address  \\\n",
       "0                 Romania, Mures, Târgu Mureș, Suceava   \n",
       "1                 Romania, Mures, Târgu Mureș, Suceava   \n",
       "2    Romania, Mures, Târgu Mureș, Pasajul Mimozelor...   \n",
       "3    Romania, Mures, Târgu Mureș, Secuilor Martiri ...   \n",
       "4            Romania, Mures, Târgu Mureș, Intre Movile   \n",
       "..                                                 ...   \n",
       "758      Romania, Mures, Targu-Mures, Aleea Carpați 21   \n",
       "759     Romania, Mures, Targu-Mures, Strada Secerei 22   \n",
       "760     Romania, Mures, Targu-Mures, Strada Somnului 1   \n",
       "761      Romania, Mures, Targu-Mures, Strada Şurianu 8   \n",
       "762     Romania, Mures, Targu-Mures, Strada Recoltei 7   \n",
       "\n",
       "                                Coordinates Status_value  \\\n",
       "0                    46.5318219, 24.5605755      pending   \n",
       "1                    46.5318219, 24.5605755      pending   \n",
       "2      46.53847314771793, 24.56418514251709      pending   \n",
       "3                     46.556504, 24.5761983      pending   \n",
       "4                     46.538112, 24.6072183      pending   \n",
       "..                                      ...          ...   \n",
       "758   46.553327087591285, 24.55823063850403     complete   \n",
       "759  46.536701914998574, 24.571722149848938     complete   \n",
       "760    46.54757194493636, 24.54906553030014      pending   \n",
       "761   46.53108524920353, 24.560043811798096      pending   \n",
       "762    46.51812263151161, 24.52126979827881      pending   \n",
       "\n",
       "             Status_label                                                Url  \n",
       "0    In curs de rezolvare  https://www.amper.org.ro/sesizari/sesizare/suc...  \n",
       "1    In curs de rezolvare  https://www.amper.org.ro/sesizari/sesizare/suc...  \n",
       "2    In curs de rezolvare  https://www.amper.org.ro/sesizari/sesizare/pas...  \n",
       "3    In curs de rezolvare  https://www.amper.org.ro/sesizari/sesizare/sec...  \n",
       "4    In curs de rezolvare  https://www.amper.org.ro/sesizari/sesizare/int...  \n",
       "..                    ...                                                ...  \n",
       "758              Rezolvat  https://www.amper.org.ro/sesizari/sesizare/ale...  \n",
       "759              Rezolvat  https://www.amper.org.ro/sesizari/sesizare/str...  \n",
       "760  In curs de rezolvare  https://www.amper.org.ro/sesizari/sesizare/str...  \n",
       "761  In curs de rezolvare  https://www.amper.org.ro/sesizari/sesizare/str...  \n",
       "762  In curs de rezolvare  https://www.amper.org.ro/sesizari/sesizare/str...  \n",
       "\n",
       "[763 rows x 8 columns]"
      ]
     },
     "execution_count": 12,
     "metadata": {},
     "output_type": "execute_result"
    }
   ],
   "source": [
    "issues = []\n",
    "for issue in map_loc:\n",
    "    issues.append([issue['category'], issue['title'], issue['description'], issue['address'], issue['coordinates'], issue['status_value'],issue['status_label'], issue['url']])  \n",
    "\n",
    "df =  pd.DataFrame(issues, columns=['Category_ID','Title','Description','Address','Coordinates','Status_value','Status_label','Url'])\n",
    "df"
   ]
  },
  {
   "cell_type": "code",
   "execution_count": 10,
   "metadata": {},
   "outputs": [],
   "source": [
    "df.to_csv(DATA_CSV_PATH)"
   ]
  },
  {
   "cell_type": "code",
   "execution_count": 11,
   "metadata": {},
   "outputs": [
    {
     "data": {
      "image/png": "[encoded data removed]",
      "text/plain": [
       "<Figure size 1440x576 with 1 Axes>"
      ]
     },
     "metadata": {
      "image/png": {
       "height": 449,
       "width": 1130
      }
     },
     "output_type": "display_data"
    }
   ],
   "source": [
    "def make_autopct(values):\n",
    "    def my_autopct(pct):\n",
    "        total = sum(values)\n",
    "        val = int(round(pct*total/100.0))\n",
    "        return '{p:.2f}%  ({v:d})'.format(p=pct,v=val)\n",
    "    return my_autopct\n",
    "\n",
    "complete_labels = 'Complete', 'Not complete'\n",
    "complete = [len(df[df.Status_value=='complete']),len(df[df.Status_value!='complete'])]\n",
    "fig1, ax1 = plt.subplots()\n",
    "ax1.pie(complete, labels=complete_labels, autopct=make_autopct(complete),\n",
    "        shadow=False, startangle=90)\n",
    "ax1.axis('equal') \n",
    "fig1.patch.set_facecolor('white')\n",
    "plt.show()"
   ]
  },
  {
   "cell_type": "code",
   "execution_count": null,
   "metadata": {},
   "outputs": [],
   "source": []
  }
 ],
 "metadata": {
  "kernelspec": {
   "display_name": "Python 3",
   "language": "python",
   "name": "python3"
  },
  "language_info": {
   "codemirror_mode": {
    "name": "ipython",
    "version": 3
   },
   "file_extension": ".py",
   "mimetype": "text/x-python",
   "name": "python",
   "nbconvert_exporter": "python",
   "pygments_lexer": "ipython3",
   "version": "3.7.7"
  },
  "widgets": {
   "application/vnd.jupyter.widget-state+json": {
    "state": {},
    "version_major": 2,
    "version_minor": 0
   }
  }
 },
 "nbformat": 4,
 "nbformat_minor": 4
}
