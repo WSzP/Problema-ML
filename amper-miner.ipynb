{
 "cells": [
  {
   "cell_type": "code",
   "execution_count": 1,
   "metadata": {},
   "outputs": [],
   "source": [
    "import requests \n",
    "from bs4 import BeautifulSoup as soup\n",
    "import re\n",
    "import json\n",
    "import pandas as pd"
   ]
  },
  {
   "cell_type": "code",
   "execution_count": 2,
   "metadata": {},
   "outputs": [],
   "source": [
    "AMPERURL = r'https://www.amper.org.ro/sesizari/'\n",
    "HEADERS = {\"user-agent\": \"@WSzP's Problema-ML miner\"}\n",
    "DATA_CSV_PATH = r'./Data/amper.csv'"
   ]
  },
  {
   "cell_type": "code",
   "execution_count": 3,
   "metadata": {},
   "outputs": [],
   "source": [
    "def crawl(url,headers):\n",
    "    res = requests.get(url, headers=headers) \n",
    "    print(res.headers)\n",
    "    print(f\"Content-Type: {res.headers['Content-Type']}\")\n",
    "    print(f\"Encoding: {res.encoding}\")\n",
    "    return res.text"
   ]
  },
  {
   "cell_type": "code",
   "execution_count": 4,
   "metadata": {},
   "outputs": [
    {
     "name": "stdout",
     "output_type": "stream",
     "text": [
      "{'Date': 'Tue, 19 May 2020 20:49:26 GMT', 'Server': 'Apache', 'X-Frame-Options': 'SAMEORIGIN', 'X-Pingback': 'https://www.amper.org.ro/sesizari/xmlrpc.php', 'Link': '<https://www.amper.org.ro/sesizari/wp-json/>; rel=\"https://api.w.org/\", <https://www.amper.org.ro/sesizari/>; rel=shortlink', 'Keep-Alive': 'timeout=5, max=100', 'Connection': 'Keep-Alive', 'Transfer-Encoding': 'chunked', 'Content-Type': 'text/html; charset=UTF-8'}\n",
      "Content-Type: text/html; charset=UTF-8\n",
      "Encoding: UTF-8\n"
     ]
    }
   ],
   "source": [
    "amper = crawl(AMPERURL,HEADERS)"
   ]
  },
  {
   "cell_type": "code",
   "execution_count": 5,
   "metadata": {},
   "outputs": [
    {
     "data": {
      "text/plain": [
       "'/* <![CDATA[ */\\nvar theme_data = {\"url\":\"https:\\\\/\\\\/www.amper.org.ro\\\\/sesizari\\\\/wp-content\\\\/themes\\\\/sesizari\",\"error_message\":\"V\\\\u0103 rug\\\\u0103m s\\\\u0103 introduce\\\\u021bi un fi\\\\u0219ier valid. (jpg, png, pdf)\"};\\nvar map_location = {\"pins\":[{\"title\":\"Str.Parangului 2, T\\\\u00e2rgu Mure\\\\u0219, judetul: Mures\",\"description\":\"Zona de la scarile FURNICA urcare spre Str.Magurei -Str.Parangului in stare dezastruoasa, inclusiv starea scarilor , respectiv asa zis parc de joaca.\",\"url\":\"https:\\\\/\\\\/www.amper.o'"
      ]
     },
     "execution_count": 5,
     "metadata": {},
     "output_type": "execute_result"
    }
   ],
   "source": [
    "page_soup = soup(amper, 'html.parser')\n",
    "data = page_soup.select(\"[type='text/javascript']\")[8].string.strip()\n",
    "data[:500]"
   ]
  },
  {
   "cell_type": "code",
   "execution_count": 6,
   "metadata": {},
   "outputs": [
    {
     "name": "stdout",
     "output_type": "stream",
     "text": [
      "[{\"title\":\"Str.Parangului 2, T\\u00e2rgu Mure\\u0219, judetul: Mures\",\"description\":\"Zona de la scarile FURNICA urcare spre Str.Magurei -Str.Parangului in stare dezastruoasa, inclusiv starea scarilor , respectiv asa zis parc de joaca.\",\"url\":\"https:\\/\\/www.amper.org.ro\\/sesizari\\/sesizare\\/str-parangului-2-targu-mures-mures\\/\",\"address\":\"Romania, Mures, T\\u00e2rgu Mure\\u0219, Str.Parangului 2\",\"coordinates\":\"46.535621, 24.560997\",\"status_value\":\"pending\",\"status_label\":\"In curs de rezolvare\",\"cate\n",
      "...\n",
      "811798096\",\"status_value\":\"pending\",\"status_label\":\"In curs de rezolvare\",\"category\":46},{\"title\":\"Strada Recoltei 7, Targu-Mures, judetul: Mures\",\"description\":\"Groapa extraordinar de mare la trecerea caii ferate.\",\"url\":\"https:\\/\\/www.amper.org.ro\\/sesizari\\/sesizare\\/strada-recoltei-7-targu-mures-mures\\/\",\"address\":\"Romania, Mures, Targu-Mures, Strada Recoltei 7\",\"coordinates\":\"46.51812263151161, 24.52126979827881\",\"status_value\":\"pending\",\"status_label\":\"In curs de rezolvare\",\"category\":56}]\n"
     ]
    }
   ],
   "source": [
    "map_location_regex = r'^.*map\\_location.*$'\n",
    "map_location_json = re.findall(map_location_regex, data, re.MULTILINE)\n",
    "map_location_json = map_location_json[0][27:-2]\n",
    "print(map_location_json[:500])\n",
    "print('...')\n",
    "print(map_location_json[-500:])"
   ]
  },
  {
   "cell_type": "code",
   "execution_count": 7,
   "metadata": {},
   "outputs": [
    {
     "data": {
      "text/plain": [
       "{'title': 'Str.Parangului 2, Târgu Mureș, judetul: Mures',\n",
       " 'description': 'Zona de la scarile FURNICA urcare spre Str.Magurei -Str.Parangului in stare dezastruoasa, inclusiv starea scarilor , respectiv asa zis parc de joaca.',\n",
       " 'url': 'https://www.amper.org.ro/sesizari/sesizare/str-parangului-2-targu-mures-mures/',\n",
       " 'address': 'Romania, Mures, Târgu Mureș, Str.Parangului 2',\n",
       " 'coordinates': '46.535621, 24.560997',\n",
       " 'status_value': 'pending',\n",
       " 'status_label': 'In curs de rezolvare',\n",
       " 'category': 57}"
      ]
     },
     "execution_count": 7,
     "metadata": {},
     "output_type": "execute_result"
    }
   ],
   "source": [
    "map_loc = json.loads(map_location_json)\n",
    "map_loc[0]"
   ]
  },
  {
   "cell_type": "code",
   "execution_count": 11,
   "metadata": {},
   "outputs": [
    {
     "name": "stdout",
     "output_type": "stream",
     "text": [
      "Number of issues on AMPER: 758\n"
     ]
    }
   ],
   "source": [
    "numIssues = len(map_loc)\n",
    "print(f'Number of issues on AMPER: {numIssues}')"
   ]
  },
  {
   "cell_type": "code",
   "execution_count": 9,
   "metadata": {},
   "outputs": [
    {
     "data": {
      "text/html": [
       "<div>\n",
       "<style scoped>\n",
       "    .dataframe tbody tr th:only-of-type {\n",
       "        vertical-align: middle;\n",
       "    }\n",
       "\n",
       "    .dataframe tbody tr th {\n",
       "        vertical-align: top;\n",
       "    }\n",
       "\n",
       "    .dataframe thead th {\n",
       "        text-align: right;\n",
       "    }\n",
       "</style>\n",
       "<table border=\"1\" class=\"dataframe\">\n",
       "  <thead>\n",
       "    <tr style=\"text-align: right;\">\n",
       "      <th></th>\n",
       "      <th>Category_ID</th>\n",
       "      <th>Title</th>\n",
       "      <th>Description</th>\n",
       "      <th>Address</th>\n",
       "      <th>Coordinates</th>\n",
       "      <th>Status_value</th>\n",
       "      <th>Status_label</th>\n",
       "      <th>Url</th>\n",
       "    </tr>\n",
       "  </thead>\n",
       "  <tbody>\n",
       "    <tr>\n",
       "      <th>0</th>\n",
       "      <td>57</td>\n",
       "      <td>Str.Parangului 2, Târgu Mureș, judetul: Mures</td>\n",
       "      <td>Zona de la scarile FURNICA urcare spre Str.Mag...</td>\n",
       "      <td>Romania, Mures, Târgu Mureș, Str.Parangului 2</td>\n",
       "      <td>46.535621, 24.560997</td>\n",
       "      <td>pending</td>\n",
       "      <td>In curs de rezolvare</td>\n",
       "      <td>https://www.amper.org.ro/sesizari/sesizare/str...</td>\n",
       "    </tr>\n",
       "    <tr>\n",
       "      <th>1</th>\n",
       "      <td>52</td>\n",
       "      <td>Godeanu, bl. 28, Târgu Mureș, judetul: Mures</td>\n",
       "      <td>În bucla pe care o face strada Godeanu, gunoiu...</td>\n",
       "      <td>Romania, Mures, Târgu Mureș, Godeanu, bl. 28</td>\n",
       "      <td>46.52525199999999, 24.554159</td>\n",
       "      <td>complete</td>\n",
       "      <td>Rezolvat</td>\n",
       "      <td>https://www.amper.org.ro/sesizari/sesizare/god...</td>\n",
       "    </tr>\n",
       "    <tr>\n",
       "      <th>2</th>\n",
       "      <td>57</td>\n",
       "      <td>Bd. 1 Decembrie 1918 nr. 219, Târgu Mureș, jud...</td>\n",
       "      <td>Semaforul de la Fortuna este stricat din cauza...</td>\n",
       "      <td>Romania, Mures, Târgu Mureș, Bd. 1 Decembrie 1...</td>\n",
       "      <td>46.5352179, 24.5838776</td>\n",
       "      <td>complete</td>\n",
       "      <td>Rezolvat</td>\n",
       "      <td>https://www.amper.org.ro/sesizari/sesizare/bd-...</td>\n",
       "    </tr>\n",
       "    <tr>\n",
       "      <th>3</th>\n",
       "      <td>56</td>\n",
       "      <td>rozmarinului, 1, Târgu Mureș, judetul: Mures</td>\n",
       "      <td>La intersectia dintre strazile Rozmarinului si...</td>\n",
       "      <td>Romania, Mures, Târgu Mureș, rozmarinului, 1</td>\n",
       "      <td>46.5260062, 24.5361727</td>\n",
       "      <td>complete</td>\n",
       "      <td>Rezolvat</td>\n",
       "      <td>https://www.amper.org.ro/sesizari/sesizare/roz...</td>\n",
       "    </tr>\n",
       "    <tr>\n",
       "      <th>4</th>\n",
       "      <td>56</td>\n",
       "      <td>Gheorghe Doja 64-68, Târgu Mureș, judetul: Mures</td>\n",
       "      <td>Construirea unei statii de autobuz interjudete...</td>\n",
       "      <td>Romania, Mures, Târgu Mureș, Gheorghe Doja 64-68</td>\n",
       "      <td>46.5268568, 24.5414245</td>\n",
       "      <td>complete</td>\n",
       "      <td>Rezolvat</td>\n",
       "      <td>https://www.amper.org.ro/sesizari/sesizare/ghe...</td>\n",
       "    </tr>\n",
       "    <tr>\n",
       "      <th>...</th>\n",
       "      <td>...</td>\n",
       "      <td>...</td>\n",
       "      <td>...</td>\n",
       "      <td>...</td>\n",
       "      <td>...</td>\n",
       "      <td>...</td>\n",
       "      <td>...</td>\n",
       "      <td>...</td>\n",
       "    </tr>\n",
       "    <tr>\n",
       "      <th>753</th>\n",
       "      <td>56</td>\n",
       "      <td>Aleea Carpați 21, Targu-Mures, judetul: Mures</td>\n",
       "      <td>Portiune lipsa in trecerea caii ferate din ale...</td>\n",
       "      <td>Romania, Mures, Targu-Mures, Aleea Carpați 21</td>\n",
       "      <td>46.553327087591285, 24.55823063850403</td>\n",
       "      <td>complete</td>\n",
       "      <td>Rezolvat</td>\n",
       "      <td>https://www.amper.org.ro/sesizari/sesizare/ale...</td>\n",
       "    </tr>\n",
       "    <tr>\n",
       "      <th>754</th>\n",
       "      <td>56</td>\n",
       "      <td>Strada Secerei 22, Targu-Mures, judetul: Mures</td>\n",
       "      <td>Pod surpat!</td>\n",
       "      <td>Romania, Mures, Targu-Mures, Strada Secerei 22</td>\n",
       "      <td>46.536701914998574, 24.571722149848938</td>\n",
       "      <td>complete</td>\n",
       "      <td>Rezolvat</td>\n",
       "      <td>https://www.amper.org.ro/sesizari/sesizare/str...</td>\n",
       "    </tr>\n",
       "    <tr>\n",
       "      <th>755</th>\n",
       "      <td>56</td>\n",
       "      <td>Strada Somnului 1, Targu-Mures, judetul: Mures</td>\n",
       "      <td>Gropi si denivelari imense imediat cum treci c...</td>\n",
       "      <td>Romania, Mures, Targu-Mures, Strada Somnului 1</td>\n",
       "      <td>46.54757194493636, 24.54906553030014</td>\n",
       "      <td>pending</td>\n",
       "      <td>In curs de rezolvare</td>\n",
       "      <td>https://www.amper.org.ro/sesizari/sesizare/str...</td>\n",
       "    </tr>\n",
       "    <tr>\n",
       "      <th>756</th>\n",
       "      <td>46</td>\n",
       "      <td>Strada Şurianu 8, Targu-Mures, judetul: Mures</td>\n",
       "      <td>Curtea Scolii 17 arata groaznic dupa ploaie.</td>\n",
       "      <td>Romania, Mures, Targu-Mures, Strada Şurianu 8</td>\n",
       "      <td>46.53108524920353, 24.560043811798096</td>\n",
       "      <td>pending</td>\n",
       "      <td>In curs de rezolvare</td>\n",
       "      <td>https://www.amper.org.ro/sesizari/sesizare/str...</td>\n",
       "    </tr>\n",
       "    <tr>\n",
       "      <th>757</th>\n",
       "      <td>56</td>\n",
       "      <td>Strada Recoltei 7, Targu-Mures, judetul: Mures</td>\n",
       "      <td>Groapa extraordinar de mare la trecerea caii f...</td>\n",
       "      <td>Romania, Mures, Targu-Mures, Strada Recoltei 7</td>\n",
       "      <td>46.51812263151161, 24.52126979827881</td>\n",
       "      <td>pending</td>\n",
       "      <td>In curs de rezolvare</td>\n",
       "      <td>https://www.amper.org.ro/sesizari/sesizare/str...</td>\n",
       "    </tr>\n",
       "  </tbody>\n",
       "</table>\n",
       "<p>758 rows × 8 columns</p>\n",
       "</div>"
      ],
      "text/plain": [
       "     Category_ID                                              Title  \\\n",
       "0             57      Str.Parangului 2, Târgu Mureș, judetul: Mures   \n",
       "1             52       Godeanu, bl. 28, Târgu Mureș, judetul: Mures   \n",
       "2             57  Bd. 1 Decembrie 1918 nr. 219, Târgu Mureș, jud...   \n",
       "3             56       rozmarinului, 1, Târgu Mureș, judetul: Mures   \n",
       "4             56   Gheorghe Doja 64-68, Târgu Mureș, judetul: Mures   \n",
       "..           ...                                                ...   \n",
       "753           56      Aleea Carpați 21, Targu-Mures, judetul: Mures   \n",
       "754           56     Strada Secerei 22, Targu-Mures, judetul: Mures   \n",
       "755           56     Strada Somnului 1, Targu-Mures, judetul: Mures   \n",
       "756           46      Strada Şurianu 8, Targu-Mures, judetul: Mures   \n",
       "757           56     Strada Recoltei 7, Targu-Mures, judetul: Mures   \n",
       "\n",
       "                                           Description  \\\n",
       "0    Zona de la scarile FURNICA urcare spre Str.Mag...   \n",
       "1    În bucla pe care o face strada Godeanu, gunoiu...   \n",
       "2    Semaforul de la Fortuna este stricat din cauza...   \n",
       "3    La intersectia dintre strazile Rozmarinului si...   \n",
       "4    Construirea unei statii de autobuz interjudete...   \n",
       "..                                                 ...   \n",
       "753  Portiune lipsa in trecerea caii ferate din ale...   \n",
       "754                                        Pod surpat!   \n",
       "755  Gropi si denivelari imense imediat cum treci c...   \n",
       "756       Curtea Scolii 17 arata groaznic dupa ploaie.   \n",
       "757  Groapa extraordinar de mare la trecerea caii f...   \n",
       "\n",
       "                                               Address  \\\n",
       "0        Romania, Mures, Târgu Mureș, Str.Parangului 2   \n",
       "1         Romania, Mures, Târgu Mureș, Godeanu, bl. 28   \n",
       "2    Romania, Mures, Târgu Mureș, Bd. 1 Decembrie 1...   \n",
       "3         Romania, Mures, Târgu Mureș, rozmarinului, 1   \n",
       "4     Romania, Mures, Târgu Mureș, Gheorghe Doja 64-68   \n",
       "..                                                 ...   \n",
       "753      Romania, Mures, Targu-Mures, Aleea Carpați 21   \n",
       "754     Romania, Mures, Targu-Mures, Strada Secerei 22   \n",
       "755     Romania, Mures, Targu-Mures, Strada Somnului 1   \n",
       "756      Romania, Mures, Targu-Mures, Strada Şurianu 8   \n",
       "757     Romania, Mures, Targu-Mures, Strada Recoltei 7   \n",
       "\n",
       "                                Coordinates Status_value  \\\n",
       "0                      46.535621, 24.560997      pending   \n",
       "1              46.52525199999999, 24.554159     complete   \n",
       "2                    46.5352179, 24.5838776     complete   \n",
       "3                    46.5260062, 24.5361727     complete   \n",
       "4                    46.5268568, 24.5414245     complete   \n",
       "..                                      ...          ...   \n",
       "753   46.553327087591285, 24.55823063850403     complete   \n",
       "754  46.536701914998574, 24.571722149848938     complete   \n",
       "755    46.54757194493636, 24.54906553030014      pending   \n",
       "756   46.53108524920353, 24.560043811798096      pending   \n",
       "757    46.51812263151161, 24.52126979827881      pending   \n",
       "\n",
       "             Status_label                                                Url  \n",
       "0    In curs de rezolvare  https://www.amper.org.ro/sesizari/sesizare/str...  \n",
       "1                Rezolvat  https://www.amper.org.ro/sesizari/sesizare/god...  \n",
       "2                Rezolvat  https://www.amper.org.ro/sesizari/sesizare/bd-...  \n",
       "3                Rezolvat  https://www.amper.org.ro/sesizari/sesizare/roz...  \n",
       "4                Rezolvat  https://www.amper.org.ro/sesizari/sesizare/ghe...  \n",
       "..                    ...                                                ...  \n",
       "753              Rezolvat  https://www.amper.org.ro/sesizari/sesizare/ale...  \n",
       "754              Rezolvat  https://www.amper.org.ro/sesizari/sesizare/str...  \n",
       "755  In curs de rezolvare  https://www.amper.org.ro/sesizari/sesizare/str...  \n",
       "756  In curs de rezolvare  https://www.amper.org.ro/sesizari/sesizare/str...  \n",
       "757  In curs de rezolvare  https://www.amper.org.ro/sesizari/sesizare/str...  \n",
       "\n",
       "[758 rows x 8 columns]"
      ]
     },
     "execution_count": 9,
     "metadata": {},
     "output_type": "execute_result"
    }
   ],
   "source": [
    "issues = []\n",
    "for issue in map_loc:\n",
    "    issues.append([issue['category'], issue['title'], issue['description'], issue['address'], issue['coordinates'], issue['status_value'],issue['status_label'], issue['url']])  \n",
    "\n",
    "df =  pd.DataFrame(issues, columns=['Category_ID','Title','Description','Address','Coordinates','Status_value','Status_label','Url'])\n",
    "df"
   ]
  },
  {
   "cell_type": "code",
   "execution_count": 10,
   "metadata": {},
   "outputs": [],
   "source": [
    "df.to_csv(DATA_CSV_PATH)"
   ]
  }
 ],
 "metadata": {
  "kernelspec": {
   "display_name": "Python 3",
   "language": "python",
   "name": "python3"
  },
  "language_info": {
   "codemirror_mode": {
    "name": "ipython",
    "version": 3
   },
   "file_extension": ".py",
   "mimetype": "text/x-python",
   "name": "python",
   "nbconvert_exporter": "python",
   "pygments_lexer": "ipython3",
   "version": "3.7.7"
  },
  "widgets": {
   "application/vnd.jupyter.widget-state+json": {
    "state": {},
    "version_major": 2,
    "version_minor": 0
   }
  }
 },
 "nbformat": 4,
 "nbformat_minor": 4
}
