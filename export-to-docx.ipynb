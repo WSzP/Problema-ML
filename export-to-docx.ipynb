{
 "cells": [
  {
   "cell_type": "code",
   "execution_count": 1,
   "metadata": {},
   "outputs": [],
   "source": [
    "from docx import Document\n",
    "import pandas as pd"
   ]
  },
  {
   "cell_type": "code",
   "execution_count": 11,
   "metadata": {},
   "outputs": [
    {
     "data": {
      "text/html": [
       "<div>\n",
       "<style scoped>\n",
       "    .dataframe tbody tr th:only-of-type {\n",
       "        vertical-align: middle;\n",
       "    }\n",
       "\n",
       "    .dataframe tbody tr th {\n",
       "        vertical-align: top;\n",
       "    }\n",
       "\n",
       "    .dataframe thead th {\n",
       "        text-align: right;\n",
       "    }\n",
       "</style>\n",
       "<table border=\"1\" class=\"dataframe\">\n",
       "  <thead>\n",
       "    <tr style=\"text-align: right;\">\n",
       "      <th></th>\n",
       "      <th>y_hat</th>\n",
       "      <th>problem</th>\n",
       "      <th>name</th>\n",
       "      <th>tel</th>\n",
       "      <th>email</th>\n",
       "      <th>language</th>\n",
       "    </tr>\n",
       "  </thead>\n",
       "  <tbody>\n",
       "    <tr>\n",
       "      <th>1</th>\n",
       "      <td>Utak &gt; Uthibak</td>\n",
       "      <td>Strada Recoltei 7: Groapa extraordinar de mare...</td>\n",
       "      <td></td>\n",
       "      <td></td>\n",
       "      <td></td>\n",
       "      <td>ro</td>\n",
       "    </tr>\n",
       "    <tr>\n",
       "      <th>2</th>\n",
       "      <td>Iskolak &gt; 17</td>\n",
       "      <td>A 17-es iskola udvara csupa sar es szornyu, ra...</td>\n",
       "      <td></td>\n",
       "      <td></td>\n",
       "      <td></td>\n",
       "      <td>hu</td>\n",
       "    </tr>\n",
       "    <tr>\n",
       "      <th>3</th>\n",
       "      <td>Piac &gt; Ocska Piac</td>\n",
       "      <td>nyitcson ki az ocska, mert mi abbo elunk, mi l...</td>\n",
       "      <td></td>\n",
       "      <td></td>\n",
       "      <td></td>\n",
       "      <td>hu</td>\n",
       "    </tr>\n",
       "  </tbody>\n",
       "</table>\n",
       "</div>"
      ],
      "text/plain": [
       "               y_hat                                            problem name  \\\n",
       "1     Utak > Uthibak  Strada Recoltei 7: Groapa extraordinar de mare...        \n",
       "2       Iskolak > 17  A 17-es iskola udvara csupa sar es szornyu, ra...        \n",
       "3  Piac > Ocska Piac  nyitcson ki az ocska, mert mi abbo elunk, mi l...        \n",
       "\n",
       "  tel email language  \n",
       "1                 ro  \n",
       "2                 hu  \n",
       "3                 hu  "
      ]
     },
     "execution_count": 11,
     "metadata": {},
     "output_type": "execute_result"
    }
   ],
   "source": [
    "df = pd.read_csv(r'./Data/problema.csv',dtype=\"str\",usecols=['y_hat','problem','name','tel','email','language'])\n",
    "df.fillna(value='',inplace=True)\n",
    "df[\"y_hat\"] = df[\"y_hat\"].astype(\"category\")\n",
    "df[1:4]"
   ]
  },
  {
   "cell_type": "code",
   "execution_count": 3,
   "metadata": {},
   "outputs": [
    {
     "data": {
      "text/plain": [
       "Piac > Ocska Piac              7\n",
       "Utak > Uthibak                 4\n",
       "Utak > Bicikli                 2\n",
       "Zoldovezetek > Zona Cornisa    1\n",
       "Szemet > Epitkezesi            1\n",
       "Kozvilagitas > Mimozelor       1\n",
       "Iskolak > 17                   1\n",
       "Egeszseg > Nyilvanos WC        1\n",
       "Name: y_hat, dtype: int64"
      ]
     },
     "execution_count": 3,
     "metadata": {},
     "output_type": "execute_result"
    }
   ],
   "source": [
    "df[\"y_hat\"].value_counts()"
   ]
  },
  {
   "cell_type": "code",
   "execution_count": 4,
   "metadata": {},
   "outputs": [],
   "source": [
    "document = Document()\n",
    "document.add_heading('problema.ms export', 0)\n",
    "for category in df[\"y_hat\"].unique():\n",
    "    document.add_heading(category, level=1)\n",
    "#     print(category)\n",
    "    for row in df[df[\"y_hat\"] == category].itertuples():              \n",
    "#         print(row.problem)\n",
    "        p = document.add_paragraph(row.problem, style='List Number')\n",
    "        if row.name or row.tel or row.email:\n",
    "            p.add_run(' ').add_break()\n",
    "            p.add_run(f'{row.name} – {row.tel} – {row.email}').italic = True    "
   ]
  },
  {
   "cell_type": "code",
   "execution_count": 7,
   "metadata": {},
   "outputs": [
    {
     "data": {
      "text/plain": [
       "'2020-05-25'"
      ]
     },
     "execution_count": 7,
     "metadata": {},
     "output_type": "execute_result"
    }
   ],
   "source": [
    "today = pd.to_datetime(\"today\")\n",
    "today = str(today)[:10]\n",
    "today"
   ]
  },
  {
   "cell_type": "code",
   "execution_count": 8,
   "metadata": {},
   "outputs": [],
   "source": [
    "document.save(r'./Data/problema-ms-export-'+today+'.docx')"
   ]
  },
  {
   "cell_type": "code",
   "execution_count": null,
   "metadata": {},
   "outputs": [],
   "source": []
  }
 ],
 "metadata": {
  "kernelspec": {
   "display_name": "Python 3",
   "language": "python",
   "name": "python3"
  },
  "language_info": {
   "codemirror_mode": {
    "name": "ipython",
    "version": 3
   },
   "file_extension": ".py",
   "mimetype": "text/x-python",
   "name": "python",
   "nbconvert_exporter": "python",
   "pygments_lexer": "ipython3",
   "version": "3.7.7"
  },
  "widgets": {
   "application/vnd.jupyter.widget-state+json": {
    "state": {},
    "version_major": 2,
    "version_minor": 0
   }
  }
 },
 "nbformat": 4,
 "nbformat_minor": 4
}
