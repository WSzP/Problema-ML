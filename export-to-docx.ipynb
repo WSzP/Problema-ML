{
 "cells": [
  {
   "cell_type": "code",
   "execution_count": 1,
   "metadata": {},
   "outputs": [],
   "source": [
    "from docx import Document\n",
    "import pandas as pd"
   ]
  },
  {
   "cell_type": "code",
   "execution_count": 2,
   "metadata": {},
   "outputs": [
    {
     "data": {
      "text/html": [
       "<div>\n",
       "<style scoped>\n",
       "    .dataframe tbody tr th:only-of-type {\n",
       "        vertical-align: middle;\n",
       "    }\n",
       "\n",
       "    .dataframe tbody tr th {\n",
       "        vertical-align: top;\n",
       "    }\n",
       "\n",
       "    .dataframe thead th {\n",
       "        text-align: right;\n",
       "    }\n",
       "</style>\n",
       "<table border=\"1\" class=\"dataframe\">\n",
       "  <thead>\n",
       "    <tr style=\"text-align: right;\">\n",
       "      <th></th>\n",
       "      <th>y_hat</th>\n",
       "      <th>problem</th>\n",
       "      <th>name</th>\n",
       "      <th>tel</th>\n",
       "      <th>email</th>\n",
       "      <th>language</th>\n",
       "    </tr>\n",
       "  </thead>\n",
       "  <tbody>\n",
       "    <tr>\n",
       "      <th>38</th>\n",
       "      <td>Hid &gt; Gyaloghid</td>\n",
       "      <td>Pokloson a gyaloghidon deszkai tonkre vannak m...</td>\n",
       "      <td></td>\n",
       "      <td></td>\n",
       "      <td></td>\n",
       "      <td>hu</td>\n",
       "    </tr>\n",
       "    <tr>\n",
       "      <th>2</th>\n",
       "      <td>Iskolak &gt; 17</td>\n",
       "      <td>A 17-es iskola udvara csupa sar es szornyu, ra...</td>\n",
       "      <td></td>\n",
       "      <td></td>\n",
       "      <td></td>\n",
       "      <td>hu</td>\n",
       "    </tr>\n",
       "    <tr>\n",
       "      <th>6</th>\n",
       "      <td>Kozvilagitas &gt; Mimozelor</td>\n",
       "      <td>Mimozelor utcaban 3 hete nincs este utcai vila...</td>\n",
       "      <td></td>\n",
       "      <td>11112</td>\n",
       "      <td></td>\n",
       "      <td>hu</td>\n",
       "    </tr>\n",
       "  </tbody>\n",
       "</table>\n",
       "</div>"
      ],
      "text/plain": [
       "                       y_hat  \\\n",
       "38           Hid > Gyaloghid   \n",
       "2               Iskolak > 17   \n",
       "6   Kozvilagitas > Mimozelor   \n",
       "\n",
       "                                              problem name    tel email  \\\n",
       "38  Pokloson a gyaloghidon deszkai tonkre vannak m...                     \n",
       "2   A 17-es iskola udvara csupa sar es szornyu, ra...                     \n",
       "6   Mimozelor utcaban 3 hete nincs este utcai vila...       11112         \n",
       "\n",
       "   language  \n",
       "38       hu  \n",
       "2        hu  \n",
       "6        hu  "
      ]
     },
     "execution_count": 2,
     "metadata": {},
     "output_type": "execute_result"
    }
   ],
   "source": [
    "df = pd.read_csv(r'./Data/problema.csv',dtype=\"str\",usecols=['y_hat','problem','name','tel','email','language'])\n",
    "df.fillna(value='',inplace=True)\n",
    "df[\"y_hat\"] = df[\"y_hat\"].astype(\"category\")\n",
    "df.sort_values(by=[\"y_hat\"],inplace=True)\n",
    "df[2:5]"
   ]
  },
  {
   "cell_type": "code",
   "execution_count": 3,
   "metadata": {},
   "outputs": [
    {
     "name": "stdout",
     "output_type": "stream",
     "text": [
      "There are 46 entries in the cleaned dataframe.\n"
     ]
    }
   ],
   "source": [
    "print(f\"There are {len(df)} entries in the cleaned dataframe.\")"
   ]
  },
  {
   "cell_type": "code",
   "execution_count": 4,
   "metadata": {},
   "outputs": [
    {
     "data": {
      "text/plain": [
       "Piac > Ocska Piac              12\n",
       "Utak > Uthibak                  5\n",
       "Utak > Bicikli                  5\n",
       "Szemet > Koztereken             4\n",
       "Zoldovezetek > Zona Cornisa     2\n",
       "META > Foto                     2\n",
       "META > Nyelvvaltoztatas         2\n",
       "Egeszseg > Nyilvanos WC         2\n",
       "Utak > Forgalomiranyitas        2\n",
       "Utak > Maros-part               2\n",
       "Zoldovezetek > Gondozas         2\n",
       "Utak > Balesetmegelozes         1\n",
       "Szemet > Epitkezesi             1\n",
       "Kozvilagitas > Mimozelor        1\n",
       "Iskolak > 17                    1\n",
       "Hid > Gyaloghid                 1\n",
       "Állatkert > Biztonsag           1\n",
       "Name: y_hat, dtype: int64"
      ]
     },
     "execution_count": 4,
     "metadata": {},
     "output_type": "execute_result"
    }
   ],
   "source": [
    "df[\"y_hat\"].value_counts()"
   ]
  },
  {
   "cell_type": "code",
   "execution_count": 5,
   "metadata": {},
   "outputs": [],
   "source": [
    "document = Document()\n",
    "document.add_heading('problema.ms export', 0)\n",
    "for category in df[\"y_hat\"].unique():\n",
    "    document.add_heading(category, level=1)\n",
    "#     print(category)\n",
    "    for row in df[df[\"y_hat\"] == category].itertuples():              \n",
    "#         print(row.problem)\n",
    "        p = document.add_paragraph(row.problem, style='List Number')\n",
    "        if row.name or row.tel or row.email:\n",
    "            p.add_run(' ').add_break()\n",
    "            p.add_run(f'{row.name} – {row.tel} – {row.email}').italic = True    "
   ]
  },
  {
   "cell_type": "code",
   "execution_count": 6,
   "metadata": {},
   "outputs": [
    {
     "data": {
      "text/plain": [
       "'2020-06-09'"
      ]
     },
     "execution_count": 6,
     "metadata": {},
     "output_type": "execute_result"
    }
   ],
   "source": [
    "today = pd.to_datetime(\"today\")\n",
    "today = str(today)[:10]\n",
    "today"
   ]
  },
  {
   "cell_type": "code",
   "execution_count": 7,
   "metadata": {},
   "outputs": [],
   "source": [
    "document.save(r'./Data/problema-ms-export-'+today+'.docx')"
   ]
  },
  {
   "cell_type": "code",
   "execution_count": 8,
   "metadata": {},
   "outputs": [],
   "source": [
    "document = Document()\n",
    "document.add_heading('problema.ms export', 0)\n",
    "for category in df[\"y_hat\"].unique():\n",
    "    document.add_heading(category, level=1)\n",
    "    for row in df[df[\"y_hat\"] == category].itertuples():              \n",
    "        p = document.add_paragraph(row.problem, style='List Number')\n",
    "document.save(r'./Data/problema-ms-gdpr-'+today+'.docx')"
   ]
  },
  {
   "cell_type": "code",
   "execution_count": null,
   "metadata": {},
   "outputs": [],
   "source": [
    "df"
   ]
  }
 ],
 "metadata": {
  "kernelspec": {
   "display_name": "Python 3",
   "language": "python",
   "name": "python3"
  },
  "language_info": {
   "codemirror_mode": {
    "name": "ipython",
    "version": 3
   },
   "file_extension": ".py",
   "mimetype": "text/x-python",
   "name": "python",
   "nbconvert_exporter": "python",
   "pygments_lexer": "ipython3",
   "version": "3.7.7"
  },
  "widgets": {
   "application/vnd.jupyter.widget-state+json": {
    "state": {},
    "version_major": 2,
    "version_minor": 0
   }
  }
 },
 "nbformat": 4,
 "nbformat_minor": 4
}
